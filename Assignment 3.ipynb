{
 "cells": [
  {
   "cell_type": "code",
   "execution_count": 32,
   "id": "2eab5caf",
   "metadata": {},
   "outputs": [
    {
     "name": "stdout",
     "output_type": "stream",
     "text": [
      "Answer no 1 :\n",
      "Twinkle, twinkle, little star, \n",
      "        How I wonder what you are! \n",
      "              Up above the world so high,      \n",
      "              Like a diamond in the sky, \n",
      " Twinkle, twinkle, little star, \n",
      "        How I wonder what you are\n"
     ]
    }
   ],
   "source": [
    "print(\"Answer no 1 :\")\n",
    "print(\"Twinkle, twinkle, little star, \\n        How I wonder what you are! \\n              Up above the world so high,      \\n              Like a diamond in the sky, \\n Twinkle, twinkle, little star, \\n        How I wonder what you are\" );"
   ]
  },
  {
   "cell_type": "code",
   "execution_count": 33,
   "id": "662b46ec",
   "metadata": {},
   "outputs": [
    {
     "name": "stdout",
     "output_type": "stream",
     "text": [
      "Answer no 2 :\n",
      "Python version : 3.8.8 (default, Apr 13 2021, 15:08:03) [MSC v.1916 64 bit (AMD64)]\n"
     ]
    }
   ],
   "source": [
    "import sys\n",
    "print(\"Answer no 2 :\")\n",
    "print(\"Python version : \"+ sys.version)\n"
   ]
  },
  {
   "cell_type": "code",
   "execution_count": 36,
   "id": "8a7d7805",
   "metadata": {},
   "outputs": [
    {
     "name": "stdout",
     "output_type": "stream",
     "text": [
      "Answer no 3 :\n",
      "2021-10-23 22:37:34.156089\n"
     ]
    }
   ],
   "source": [
    "import datetime\n",
    "print(\"Answer no 3 :\");\n",
    "print(datetime.datetime.now());"
   ]
  },
  {
   "cell_type": "code",
   "execution_count": 45,
   "id": "5c0e2a1c",
   "metadata": {},
   "outputs": [
    {
     "name": "stdout",
     "output_type": "stream",
     "text": [
      "Answer no 4 : \n",
      "Enter the value radius of circle : 5\n",
      "The Area of circle is 78.53981633974483\n"
     ]
    }
   ],
   "source": [
    "from math import pi;\n",
    "print(\"Answer no 4 : \");\n",
    "Cradius = float(input(\"Enter the value radius of circle : \"));\n",
    "calculateArea = pi * Cradius**2;\n",
    "print(\"The Area of circle is \"+ str(calculateArea));"
   ]
  },
  {
   "cell_type": "code",
   "execution_count": 48,
   "id": "f320e169",
   "metadata": {},
   "outputs": [
    {
     "name": "stdout",
     "output_type": "stream",
     "text": [
      "Answer no 5 :\n",
      "Enter your first name : Talha\n",
      "Enter your last name : bin ali\n",
      "First & Last name reverse order is bin ali Talha\n"
     ]
    }
   ],
   "source": [
    "print(\"Answer no 5 :\")\n",
    "firstname = input(\"Enter your first name : \");\n",
    "lastname = input(\"Enter your last name : \");\n",
    "print(\"First & Last name reverse order is \"+lastname+ \" \" + firstname);"
   ]
  },
  {
   "cell_type": "code",
   "execution_count": 53,
   "id": "ae24362b",
   "metadata": {},
   "outputs": [
    {
     "name": "stdout",
     "output_type": "stream",
     "text": [
      "Answer no 6 :\n",
      "Enter the First value : 22\n",
      "Enter the Second value : 22\n",
      "the number addition is 44\n"
     ]
    }
   ],
   "source": [
    "print(\"Answer no 6 :\");\n",
    "num1 = int(input(\"Enter the First value : \"));\n",
    "num2 = int(input(\"Enter the Second value : \"));\n",
    "total = num1+num2;\n",
    "print(\"the number addition is \" + str(total));"
   ]
  },
  {
   "cell_type": "code",
   "execution_count": 72,
   "id": "8b3d9459",
   "metadata": {
    "scrolled": true
   },
   "outputs": [
    {
     "name": "stdout",
     "output_type": "stream",
     "text": [
      "Answer No 7 : \n",
      "Enter your Math Marks : 33\n",
      "Enter your English Marks : 33\n",
      "Enter your Islamiyat Marks : 33\n",
      "Enter your Urdu Marks : 33\n",
      "Enter your Physics Marks : 33\n",
      "Total Marks : 165\n",
      "Percentage : 33.0\n",
      "Grade : D\n"
     ]
    }
   ],
   "source": [
    "print(\"Answer No 7 : \");\n",
    "math = int(input(\"Enter your Math Marks : \"));\n",
    "english = int(input(\"Enter your English Marks : \"));\n",
    "islamiyat = int(input(\"Enter your Islamiyat Marks : \"));\n",
    "urdu = int(input(\"Enter your Urdu Marks : \"));\n",
    "physic = int(input(\"Enter your Physics Marks : \"));\n",
    "total = math+english+islamiyat+urdu+physic;\n",
    "per = total/500*100;\n",
    "print(\"Total Marks : \"+str(total));\n",
    "print(\"Percentage : \"+str(per));\n",
    "if per == 100 or per >= 80 :\n",
    "    print(\"Grade : A1\");\n",
    "elif per == 79 or per >= 70:\n",
    "    print(\"Grade : A\");\n",
    "elif per == 69 or per >= 60:\n",
    "    print(\"Grade : B\");\n",
    "elif per == 59 or per >= 45:\n",
    "    print(\"Grade : C\");\n",
    "elif per == 44 or per >= 30:\n",
    "    print(\"Grade : D\");\n",
    "else:\n",
    "    print(\"fail\");\n",
    "\n"
   ]
  },
  {
   "cell_type": "markdown",
   "id": "77b37f22",
   "metadata": {},
   "source": []
  },
  {
   "cell_type": "code",
   "execution_count": 74,
   "id": "d53d20e1",
   "metadata": {},
   "outputs": [
    {
     "name": "stdout",
     "output_type": "stream",
     "text": [
      "Answer no 8 :\n",
      "Enter the value : 2\n",
      "2 is even number\n"
     ]
    }
   ],
   "source": [
    "print(\"Answer no 8 :\");\n",
    "user = int(input(\"Enter the value : \"));\n",
    "if (user%2) == 0 :\n",
    "    print(str(user)+\" \"+ \"is even number\")\n",
    "else:\n",
    "    print(str(user)+\" \"+ \"is odd number\")"
   ]
  },
  {
   "cell_type": "code",
   "execution_count": 10,
   "id": "c88dc001",
   "metadata": {},
   "outputs": [
    {
     "name": "stdout",
     "output_type": "stream",
     "text": [
      "Answer no 9 :\n",
      "List lenght is : 4\n"
     ]
    }
   ],
   "source": [
    "print(\"Answer no 9 :\");\n",
    "a = [\"talha\",\"osama\",\"huzaifa\",\"asif\"];\n",
    "b = str(len(a));\n",
    "print(\"List lenght is : \"+ b );"
   ]
  },
  {
   "cell_type": "code",
   "execution_count": 15,
   "id": "c68e526a",
   "metadata": {},
   "outputs": [
    {
     "name": "stdout",
     "output_type": "stream",
     "text": [
      "Answer no 10 :\n",
      "List all numberic number is sum reault is : 49\n"
     ]
    }
   ],
   "source": [
    "print(\"Answer no 10 :\")\n",
    "a = [22,3,4,20];\n",
    "b = a[0]+a[1]+a[2]+a[3];\n",
    "print(\"List all numberic number is sum reault is : \"+ str(b));"
   ]
  },
  {
   "cell_type": "code",
   "execution_count": 18,
   "id": "acd8ef09",
   "metadata": {},
   "outputs": [
    {
     "name": "stdout",
     "output_type": "stream",
     "text": [
      "Answer no 11 :\n",
      "List Largest number is 500\n"
     ]
    }
   ],
   "source": [
    "print(\"Answer no 11 :\")\n",
    "numberlist = [22,55,100,500,44,2,33,1,0];\n",
    "largestnumber = max(numberlist);\n",
    "print(\"List Largest number is \" + str(largestnumber));"
   ]
  },
  {
   "cell_type": "code",
   "execution_count": 31,
   "id": "88b48311",
   "metadata": {},
   "outputs": [
    {
     "name": "stdout",
     "output_type": "stream",
     "text": [
      "Answer no 12 :\n",
      "1\n",
      "1\n",
      "2\n",
      "3\n"
     ]
    }
   ],
   "source": [
    "print(\"Answer no 12 :\");\n",
    "number = [1,1,2,3,5,8,13,21,34,55,89];\n",
    "for a in number:\n",
    "    if a < 5:\n",
    "        print(a)"
   ]
  },
  {
   "cell_type": "code",
   "execution_count": null,
   "id": "90b8bd67",
   "metadata": {},
   "outputs": [],
   "source": []
  },
  {
   "cell_type": "code",
   "execution_count": null,
   "id": "a081267f",
   "metadata": {},
   "outputs": [],
   "source": []
  }
 ],
 "metadata": {
  "kernelspec": {
   "display_name": "Python 3",
   "language": "python",
   "name": "python3"
  },
  "language_info": {
   "codemirror_mode": {
    "name": "ipython",
    "version": 3
   },
   "file_extension": ".py",
   "mimetype": "text/x-python",
   "name": "python",
   "nbconvert_exporter": "python",
   "pygments_lexer": "ipython3",
   "version": "3.8.8"
  }
 },
 "nbformat": 4,
 "nbformat_minor": 5
}
